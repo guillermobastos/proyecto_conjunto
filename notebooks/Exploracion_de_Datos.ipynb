{
 "cells": [
  {
   "cell_type": "code",
   "execution_count": null,
   "metadata": {},
   "outputs": [],
   "source": [
    "import pandas as pd\n",
    "\n",
    "# Cargar datos técnicos y financieros\n",
    "datos_tecnicos_df = pd.read_csv('data/processed/datos_tecnicos_AAPL_2024-08-15.csv')\n",
    "datos_financieros_df = pd.read_csv('data/processed/datos_financieros_AAPL_2024-08-15.csv')\n",
    "\n",
    "# Visualizar datos técnicos\n",
    "print(\"Datos Técnicos:\")\n",
    "print(datos_tecnicos_df.head())\n",
    "\n",
    "# Visualizar datos financieros\n",
    "print(\"Datos Financieros:\")\n",
    "print(datos_financieros_df.head())"
   ]
  }
 ],
 "metadata": {
  "language_info": {
   "name": "python"
  }
 },
 "nbformat": 4,
 "nbformat_minor": 2
}
